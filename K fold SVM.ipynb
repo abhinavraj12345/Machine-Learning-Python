{
 "cells": [
  {
   "cell_type": "code",
   "execution_count": 121,
   "metadata": {},
   "outputs": [],
   "source": [
    "from sklearn.datasets import load_breast_cancer\n",
    "from sklearn.model_selection import cross_val_score\n",
    "from sklearn.model_selection import train_test_split\n",
    "from sklearn.svm import SVC\n",
    "from sklearn.metrics import confusion_matrix,make_scorer\n",
    "from sklearn.metrics import accuracy_score,precision_score,recall_score,matthews_corrcoef,roc_auc_score,roc_curve\n",
    "from sklearn.preprocessing import scale\n",
    "import numpy as np\n",
    "import matplotlib.pyplot as plt\n",
    "import pandas as pd"
   ]
  },
  {
   "cell_type": "code",
   "execution_count": 122,
   "metadata": {},
   "outputs": [],
   "source": [
    "data=load_breast_cancer()"
   ]
  },
  {
   "cell_type": "code",
   "execution_count": 123,
   "metadata": {},
   "outputs": [],
   "source": [
    "X=data.data"
   ]
  },
  {
   "cell_type": "code",
   "execution_count": 124,
   "metadata": {},
   "outputs": [],
   "source": [
    "Y=data.target"
   ]
  },
  {
   "cell_type": "code",
   "execution_count": 125,
   "metadata": {},
   "outputs": [
    {
     "data": {
      "text/plain": [
       "1    357\n",
       "0    212\n",
       "dtype: int64"
      ]
     },
     "execution_count": 125,
     "metadata": {},
     "output_type": "execute_result"
    }
   ],
   "source": [
    "pd.value_counts(Y)"
   ]
  },
  {
   "cell_type": "code",
   "execution_count": 126,
   "metadata": {},
   "outputs": [
    {
     "data": {
      "text/plain": [
       "dtype('int32')"
      ]
     },
     "execution_count": 126,
     "metadata": {},
     "output_type": "execute_result"
    }
   ],
   "source": [
    "load_breast_cancer().target.dtype"
   ]
  },
  {
   "cell_type": "code",
   "execution_count": 127,
   "metadata": {},
   "outputs": [],
   "source": [
    "x_train,x_test,y_train,y_test=train_test_split(scale(data.data),data.target,test_size=0.2)"
   ]
  },
  {
   "cell_type": "code",
   "execution_count": 128,
   "metadata": {},
   "outputs": [
    {
     "data": {
      "text/plain": [
       "(455, 30)"
      ]
     },
     "execution_count": 128,
     "metadata": {},
     "output_type": "execute_result"
    }
   ],
   "source": [
    "x_train.shape"
   ]
  },
  {
   "cell_type": "code",
   "execution_count": 129,
   "metadata": {},
   "outputs": [
    {
     "data": {
      "text/plain": [
       "(455,)"
      ]
     },
     "execution_count": 129,
     "metadata": {},
     "output_type": "execute_result"
    }
   ],
   "source": [
    "y_train.shape"
   ]
  },
  {
   "cell_type": "code",
   "execution_count": 133,
   "metadata": {},
   "outputs": [],
   "source": [
    "model=SVC(C=1,probability=True,gamma=0.0001)"
   ]
  },
  {
   "cell_type": "code",
   "execution_count": 134,
   "metadata": {},
   "outputs": [
    {
     "data": {
      "text/plain": [
       "SVC(C=1, cache_size=200, class_weight=None, coef0=0.0,\n",
       "  decision_function_shape='ovr', degree=3, gamma=0.0001, kernel='rbf',\n",
       "  max_iter=-1, probability=True, random_state=None, shrinking=True,\n",
       "  tol=0.001, verbose=False)"
      ]
     },
     "execution_count": 134,
     "metadata": {},
     "output_type": "execute_result"
    }
   ],
   "source": [
    "model.fit(x_train,y_train)"
   ]
  },
  {
   "cell_type": "code",
   "execution_count": 135,
   "metadata": {},
   "outputs": [],
   "source": [
    "y_pred=model.predict(x_test)"
   ]
  },
  {
   "cell_type": "code",
   "execution_count": 136,
   "metadata": {},
   "outputs": [
    {
     "data": {
      "text/plain": [
       "0.7105263157894737"
      ]
     },
     "execution_count": 136,
     "metadata": {},
     "output_type": "execute_result"
    }
   ],
   "source": [
    "acc=accuracy_score(y_pred=y_pred,y_true=y_test)\n",
    "acc"
   ]
  },
  {
   "cell_type": "code",
   "execution_count": 137,
   "metadata": {},
   "outputs": [
    {
     "data": {
      "text/plain": [
       "0.4736347716407829"
      ]
     },
     "execution_count": 137,
     "metadata": {},
     "output_type": "execute_result"
    }
   ],
   "source": [
    "mcc=matthews_corrcoef(y_pred=y_pred,y_true=y_test)\n",
    "mcc"
   ]
  },
  {
   "cell_type": "code",
   "execution_count": 138,
   "metadata": {},
   "outputs": [],
   "source": [
    "MCC= make_scorer(matthews_corrcoef)"
   ]
  },
  {
   "cell_type": "code",
   "execution_count": 139,
   "metadata": {},
   "outputs": [],
   "source": [
    "clf=cross_val_score(estimator=model,X=X,y=Y,scoring=MCC,cv=5)"
   ]
  },
  {
   "cell_type": "code",
   "execution_count": 140,
   "metadata": {},
   "outputs": [
    {
     "data": {
      "text/plain": [
       "0.861599073993635"
      ]
     },
     "execution_count": 140,
     "metadata": {},
     "output_type": "execute_result"
    }
   ],
   "source": [
    "np.mean(clf)"
   ]
  },
  {
   "cell_type": "code",
   "execution_count": 151,
   "metadata": {},
   "outputs": [],
   "source": [
    "c=np.array([1,2,3,4,5,6,7,8,9,10,11])"
   ]
  },
  {
   "cell_type": "markdown",
   "metadata": {},
   "source": [
    "# Tunning C as a parameter"
   ]
  },
  {
   "cell_type": "code",
   "execution_count": 153,
   "metadata": {},
   "outputs": [
    {
     "name": "stdout",
     "output_type": "stream",
     "text": [
      "Score= [0.861599073993635, 0.8619520377947538, 0.8736352371619324, 0.8659060505013414, 0.8580474232969572, 0.8616202233182729, 0.8655931532579739, 0.8653754200625094, 0.8694704633236281, 0.8551041804709696, 0.8592257416690442]\n"
     ]
    }
   ],
   "source": [
    "score=[]\n",
    "for i in range(0,len(c)):\n",
    "    model=SVC(C=c[i],probability=True,gamma=0.0001)\n",
    "    k = np.mean(cross_val_score(estimator=model,X=X,y=Y,scoring=MCC,cv=5))\n",
    "    score.append(k)\n",
    "print(\"Score=\",score)"
   ]
  },
  {
   "cell_type": "code",
   "execution_count": 154,
   "metadata": {},
   "outputs": [
    {
     "data": {
      "text/plain": [
       "[<matplotlib.lines.Line2D at 0x17413e77978>]"
      ]
     },
     "execution_count": 154,
     "metadata": {},
     "output_type": "execute_result"
    },
    {
     "data": {
      "image/png": "[encoded data removed]",
      "text/plain": [
       "<Figure size 432x288 with 1 Axes>"
      ]
     },
     "metadata": {
      "needs_background": "light"
     },
     "output_type": "display_data"
    }
   ],
   "source": [
    "plt.plot(range(0,len(c)),score)"
   ]
  },
  {
   "cell_type": "code",
   "execution_count": 155,
   "metadata": {},
   "outputs": [],
   "source": [
    "model=SVC(C=2,probability=True,gamma=0.0001)"
   ]
  },
  {
   "cell_type": "code",
   "execution_count": 156,
   "metadata": {},
   "outputs": [
    {
     "data": {
      "text/plain": [
       "SVC(C=2, cache_size=200, class_weight=None, coef0=0.0,\n",
       "  decision_function_shape='ovr', degree=3, gamma=0.0001, kernel='rbf',\n",
       "  max_iter=-1, probability=True, random_state=None, shrinking=True,\n",
       "  tol=0.001, verbose=False)"
      ]
     },
     "execution_count": 156,
     "metadata": {},
     "output_type": "execute_result"
    }
   ],
   "source": [
    "model.fit(x_train,y_train)"
   ]
  },
  {
   "cell_type": "code",
   "execution_count": 157,
   "metadata": {},
   "outputs": [],
   "source": [
    "y_prediction=model.predict_proba(x_test)"
   ]
  },
  {
   "cell_type": "code",
   "execution_count": 158,
   "metadata": {},
   "outputs": [
    {
     "data": {
      "text/plain": [
       "array([9.74103509e-01, 9.89766581e-05, 9.99999640e-01, 9.94102649e-01,\n",
       "       1.89465491e-04, 9.99999146e-01, 9.99999770e-01, 9.89158192e-01,\n",
       "       6.84784265e-01, 9.95191788e-01, 3.62921064e-02, 2.83531403e-02,\n",
       "       9.10259434e-01, 7.28999402e-01, 9.99999673e-01, 9.90675205e-01,\n",
       "       9.99994106e-01, 9.77952367e-01, 7.46182247e-01, 2.46460159e-05,\n",
       "       1.10455584e-06, 9.89611620e-01, 2.97055509e-01, 9.90096716e-01,\n",
       "       4.54893351e-07, 9.91014815e-01, 4.84517642e-04, 8.55175754e-01,\n",
       "       3.58793241e-02, 9.78404960e-01, 3.78878929e-02, 2.83869877e-03,\n",
       "       9.83542493e-01, 8.54771863e-05, 1.36557450e-03, 1.58807257e-03,\n",
       "       5.72140714e-04, 9.46274914e-01, 5.16004776e-03, 9.99998867e-01,\n",
       "       9.97284949e-01, 1.81960204e-07, 1.09232110e-02, 9.83299702e-01,\n",
       "       3.37573100e-01, 8.57182499e-01, 5.14711752e-01, 2.64070318e-03,\n",
       "       7.86151458e-05, 9.71949534e-01, 9.86382456e-01, 4.88577063e-03,\n",
       "       9.99989578e-01, 5.47985847e-02, 9.83166178e-01, 9.99998607e-01,\n",
       "       9.61100016e-01, 6.50785023e-05, 9.99995187e-01, 9.93242231e-01,\n",
       "       9.60568343e-01, 6.09331583e-02, 3.61078212e-01, 9.73739731e-01,\n",
       "       9.86537336e-01, 5.72684560e-02, 9.54756128e-01, 6.86870725e-07,\n",
       "       1.16683719e-06, 8.19490571e-05, 2.11171997e-05, 1.40019857e-03,\n",
       "       9.80800377e-01, 1.00000010e-07, 9.84126095e-01, 9.53283852e-01,\n",
       "       2.80472929e-03, 2.86859472e-02, 6.69479062e-01, 1.17674403e-02,\n",
       "       9.97409950e-01, 9.51832777e-02, 1.00000010e-07, 9.32124315e-01,\n",
       "       1.15939005e-01, 7.37948386e-01, 9.99993234e-01, 4.44102247e-03,\n",
       "       7.67490341e-02, 9.97129643e-01, 9.70401498e-01, 9.79761163e-01,\n",
       "       8.04283699e-01, 6.72165887e-03, 5.76913252e-03, 9.76822220e-01,\n",
       "       9.99997487e-01, 9.92048249e-01, 8.03236599e-01, 9.94413573e-01,\n",
       "       8.75949442e-02, 9.91843185e-01, 9.05508106e-02, 7.43859544e-01,\n",
       "       9.83385575e-01, 9.92129704e-01, 9.99998636e-01, 1.45051160e-02,\n",
       "       9.94881677e-01, 9.99999241e-01, 1.07498376e-02, 9.95157717e-01,\n",
       "       9.99999994e-01, 5.49415727e-01])"
      ]
     },
     "execution_count": 158,
     "metadata": {},
     "output_type": "execute_result"
    }
   ],
   "source": [
    "y_prediction[:,1]"
   ]
  },
  {
   "cell_type": "markdown",
   "metadata": {},
   "source": [
    "# ROC Curve"
   ]
  },
  {
   "cell_type": "code",
   "execution_count": 159,
   "metadata": {},
   "outputs": [],
   "source": [
    "auc = roc_auc_score(y_test, y_prediction[:,1])"
   ]
  },
  {
   "cell_type": "code",
   "execution_count": 160,
   "metadata": {},
   "outputs": [
    {
     "data": {
      "text/plain": [
       "[<matplotlib.lines.Line2D at 0x17413ea5828>]"
      ]
     },
     "execution_count": 160,
     "metadata": {},
     "output_type": "execute_result"
    },
    {
     "data": {
      "image/png": "[encoded data removed]",
      "text/plain": [
       "<Figure size 432x288 with 1 Axes>"
      ]
     },
     "metadata": {
      "needs_background": "light"
     },
     "output_type": "display_data"
    }
   ],
   "source": [
    "fpr, tpr, thresholds = roc_curve(y_test, y_prediction[:,1])\n",
    "plt.plot([0, 1], [0, 1], linestyle='--')\n",
    "plt.plot(fpr, tpr, marker='.')"
   ]
  },
  {
   "cell_type": "code",
   "execution_count": null,
   "metadata": {},
   "outputs": [],
   "source": []
  }
 ],
 "metadata": {
  "kernelspec": {
   "display_name": "Python 3",
   "language": "python",
   "name": "python3"
  },
  "language_info": {
   "codemirror_mode": {
    "name": "ipython",
    "version": 3
   },
   "file_extension": ".py",
   "mimetype": "text/x-python",
   "name": "python",
   "nbconvert_exporter": "python",
   "pygments_lexer": "ipython3",
   "version": "3.7.1"
  }
 },
 "nbformat": 4,
 "nbformat_minor": 2
}
